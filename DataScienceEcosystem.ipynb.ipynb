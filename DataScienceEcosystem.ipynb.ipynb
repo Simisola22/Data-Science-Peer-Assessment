{
    "cells": [
        {
            "cell_type": "markdown",
            "metadata": {
                "collapsed": true
            },
            "source": "# Data Science Tools and Ecosystem"
        },
        {
            "cell_type": "markdown",
            "metadata": {},
            "source": "In this notebook, Data Science Tools and Ecosystem are summarized"
        },
        {
            "cell_type": "markdown",
            "metadata": {},
            "source": "Some of the popular language that Data Scientists used are\n\n1. Python\n2. SQL\n3. R"
        },
        {
            "cell_type": "markdown",
            "metadata": {},
            "source": "Some of the commonly used libraries used by Data Scientists include:\n\n1. NumPy\n2. PyTorch\n3. SciKit-Learn"
        },
        {
            "cell_type": "markdown",
            "metadata": {},
            "source": "| Data|Science |Tools|\n|-------|------------|-----------|\n|RStusio|Apache Spark|Tensor Flow|"
        },
        {
            "cell_type": "markdown",
            "metadata": {},
            "source": "### Below are a few example of evaluating arithemetic expressions in Python"
        },
        {
            "cell_type": "code",
            "execution_count": 7,
            "metadata": {},
            "outputs": [
                {
                    "ename": "SyntaxError",
                    "evalue": "invalid syntax (597464660.py, line 1)",
                    "output_type": "error",
                    "traceback": [
                        "\u001b[0;36m  Input \u001b[0;32mIn [7]\u001b[0;36m\u001b[0m\n\u001b[0;31m    This ia simple arithemetic expression to multiply,add integer\u001b[0m\n\u001b[0m         ^\u001b[0m\n\u001b[0;31mSyntaxError\u001b[0m\u001b[0;31m:\u001b[0m invalid syntax\n"
                    ]
                }
            ],
            "source": "This ia simple arithemetic expression to multiply,add integer\n(3*4)=5"
        },
        {
            "cell_type": "code",
            "execution_count": 8,
            "metadata": {},
            "outputs": [
                {
                    "ename": "SyntaxError",
                    "evalue": "invalid decimal literal (3579034577.py, line 1)",
                    "output_type": "error",
                    "traceback": [
                        "\u001b[0;36m  Input \u001b[0;32mIn [8]\u001b[0;36m\u001b[0m\n\u001b[0;31m    200mins to hrs\u001b[0m\n\u001b[0m      ^\u001b[0m\n\u001b[0;31mSyntaxError\u001b[0m\u001b[0;31m:\u001b[0m invalid decimal literal\n"
                    ]
                }
            ],
            "source": "200mins to hrs"
        },
        {
            "cell_type": "markdown",
            "metadata": {},
            "source": "**Objectives**\n - Create Jupyter Notebook\n  - Create markdown cell with title\n  - list data languages that data scientists use\n  - list data libraries used\n   - data science tools\n   - using of code cell to solve arithemetic expressions"
        },
        {
            "cell_type": "markdown",
            "metadata": {},
            "source": "## Author\nADEBAYO MARIAM SIMISOLA"
        }
    ],
    "metadata": {
        "kernelspec": {
            "display_name": "Python 3.10",
            "language": "python",
            "name": "python3"
        },
        "language_info": {
            "codemirror_mode": {
                "name": "ipython",
                "version": 3
            },
            "file_extension": ".py",
            "mimetype": "text/x-python",
            "name": "python",
            "nbconvert_exporter": "python",
            "pygments_lexer": "ipython3",
            "version": "3.10.9"
        }
    },
    "nbformat": 4,
    "nbformat_minor": 1
}